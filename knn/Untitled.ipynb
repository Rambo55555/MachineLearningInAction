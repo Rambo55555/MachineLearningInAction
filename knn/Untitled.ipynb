{
 "cells": [
  {
   "cell_type": "code",
   "execution_count": 71,
   "metadata": {},
   "outputs": [
    {
     "data": {
      "text/plain": [
       "'17098'"
      ]
     },
     "execution_count": 71,
     "metadata": {},
     "output_type": "execute_result"
    }
   ],
   "source": [
    "from urllib import request\n",
    "import re\n",
    "def getHtml(url):\n",
    "    headers={'User-Agent':'Mozilla/5.0 (Windows NT 10.0; Win64; x64; rv:60.0) Gecko/20100101 Firefox/60.0'}\n",
    "    page1=request.Request(url,headers=headers)\n",
    "    page=request.urlopen(page1)\n",
    "    return page.read()\n",
    "\n",
    "from html.parser import HTMLParser\n",
    "class MyHTMLParser(HTMLParser):\n",
    "    def __init__(self):\n",
    "        super(MyHTMLParser, self).__init__()\n",
    "        #存储当前标签类型\n",
    "        self.CurrentData = \"\"\n",
    "        #存储上一个标签\n",
    "        self.previousTag = \"\"\n",
    "        #存储所有event\n",
    "        self.allInfo = list()\n",
    "        #存储一个会议\n",
    "        self.ipList = list()\n",
    "        #存储端口\n",
    "        self.portList = list()\n",
    "        #存储密码\n",
    "        self.pwdList = list()\n",
    "    def handle_starttag(self, tag, attrs):\n",
    "        if tag == 'span':\n",
    "            attrs = dict(attrs)\n",
    "            if(attrs.__contains__(\"id\")):\n",
    "                if re.match(r'ip[ssr|sgc]*', attrs['id']):\n",
    "                    self.CurrentData = 'ip'\n",
    "                if re.match(r'port[s|u]*', attrs['id']):\n",
    "                    self.CurrentData = 'port'\n",
    "                if re.match(r'pw[s|u]*', attrs['id']):\n",
    "                    self.CurrentData = 'pwd'\n",
    "\n",
    "    def handle_endtag(self, tag):\n",
    "        #print('</%s>' % tag)\n",
    "        self.CurrentData = ''\n",
    "\n",
    "    def handle_startendtag(self, tag, attrs):\n",
    "        #print('<%s/>' % tag)\n",
    "        pass\n",
    "\n",
    "    def handle_data(self, data):\n",
    "        if self.CurrentData == 'ip':\n",
    "            self.ipList.append(data)\n",
    "        if self.CurrentData == 'port':\n",
    "            self.portList.append(data.strip())\n",
    "        if self.CurrentData == 'pwd':\n",
    "            self.pwdList.append(data.strip())\n",
    "\n",
    "    def handle_comment(self, data):\n",
    "        #print('<!--', data, '-->')\n",
    "        pass\n",
    "\n",
    "    def handle_entityref(self, name):\n",
    "        #print('&%s;' % name)\n",
    "        pass\n",
    "\n",
    "    def handle_charref(self, name):\n",
    "        #print('&#%s;' % name)\n",
    "        pass\n",
    "\n",
    "parser = MyHTMLParser()\n",
    "\n",
    "parser.feed(getHtml('https://d.ishadowx.com/').decode('utf-8'))\n",
    "freeSS = list()\n",
    "for i in range(len(parser.ipList)):\n",
    "    freeSS.append((parser.ipList[i], parser.portList[i], parser.pwdList[i]))\n",
    "freeSS[0][1]"
   ]
  },
  {
   "cell_type": "code",
   "execution_count": null,
   "metadata": {},
   "outputs": [],
   "source": []
  }
 ],
 "metadata": {
  "kernelspec": {
   "display_name": "Python 3",
   "language": "python",
   "name": "python3"
  },
  "language_info": {
   "codemirror_mode": {
    "name": "ipython",
    "version": 3
   },
   "file_extension": ".py",
   "mimetype": "text/x-python",
   "name": "python",
   "nbconvert_exporter": "python",
   "pygments_lexer": "ipython3",
   "version": "3.7.1"
  }
 },
 "nbformat": 4,
 "nbformat_minor": 2
}
