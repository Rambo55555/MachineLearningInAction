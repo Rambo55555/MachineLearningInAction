{
 "cells": [
  {
   "cell_type": "code",
   "execution_count": 8,
   "metadata": {},
   "outputs": [
    {
     "data": {
      "text/plain": [
       "['dalmation',\n",
       " 'food',\n",
       " 'maybe',\n",
       " 'problems',\n",
       " 'buying',\n",
       " 'stop',\n",
       " 'help',\n",
       " 'my',\n",
       " 'how',\n",
       " 'dog',\n",
       " 'not',\n",
       " 'worthless',\n",
       " 'park',\n",
       " 'is',\n",
       " 'posting',\n",
       " 'I',\n",
       " 'ate',\n",
       " 'quit',\n",
       " 'love',\n",
       " 'please',\n",
       " 'him',\n",
       " 'flea',\n",
       " 'cute',\n",
       " 'steak',\n",
       " 'garbage',\n",
       " 'stupid',\n",
       " 'take',\n",
       " 'mr',\n",
       " 'so',\n",
       " 'has',\n",
       " 'to',\n",
       " 'licks']"
      ]
     },
     "execution_count": 8,
     "metadata": {},
     "output_type": "execute_result"
    }
   ],
   "source": [
    "#加载数据\n",
    "def loadDataSet():\n",
    "    postingList=[['my', 'dog', 'has', 'flea', 'problems', 'help', 'please'],\n",
    "                 ['maybe', 'not', 'take', 'him', 'to', 'dog', 'park', 'stupid'],\n",
    "                 ['my', 'dalmation', 'is', 'so', 'cute', 'I', 'love', 'him'],\n",
    "                 ['stop', 'posting', 'stupid', 'worthless', 'garbage'],\n",
    "                 ['mr', 'licks', 'ate', 'my', 'steak', 'how', 'to', 'stop', 'him'],\n",
    "                 ['quit', 'buying', 'worthless', 'dog', 'food', 'stupid']]\n",
    "    classVec = [0,1,0,1,0,1]    #1 is abusive, 0 not\n",
    "    return postingList,classVec\n",
    "\n",
    "#创建词汇列表\n",
    "def createVocabList(dataSet):\n",
    "    vocabSet = set([])\n",
    "    for document in dataSet:\n",
    "        vocabSet = vocabSet | set(document)\n",
    "    return list(vocabSet)\n",
    "\n",
    "#将输入的词语集合转换成词向量\n",
    "def setOfWords2Vec(vocabList, inputSet):\n",
    "    returnVec = [0] * len(vocabList)\n",
    "    for word in inputSet:\n",
    "        if word in vocabList:\n",
    "            returnVec[vocabList.index(word)] = 1\n",
    "        else: print(\"The word: %s is not in the vocabList!\" % word)\n",
    "    return returnVec\n",
    "\n",
    "#词袋模型\n",
    "def bagOfWords2Vec(vocabList, inputSet):\n",
    "    returnVec = [0] * len(vocabList)\n",
    "    for word in inputSet:\n",
    "        if word in vocabList:\n",
    "            returnVec[vocabList.index(word)] += 1\n",
    "        else: print(\"The word: %s is not in the vocabList!\" % word)\n",
    "    return returnVec\n",
    "postingList, classVec = loadDataSet()\n",
    "vocabList = createVocabList(postingList)\n",
    "vocabList"
   ]
  },
  {
   "cell_type": "code",
   "execution_count": 9,
   "metadata": {},
   "outputs": [
    {
     "data": {
      "text/plain": [
       "[1,\n",
       " 0,\n",
       " 0,\n",
       " 0,\n",
       " 0,\n",
       " 0,\n",
       " 0,\n",
       " 1,\n",
       " 0,\n",
       " 0,\n",
       " 0,\n",
       " 0,\n",
       " 0,\n",
       " 1,\n",
       " 0,\n",
       " 1,\n",
       " 0,\n",
       " 0,\n",
       " 1,\n",
       " 0,\n",
       " 1,\n",
       " 0,\n",
       " 1,\n",
       " 0,\n",
       " 0,\n",
       " 0,\n",
       " 0,\n",
       " 0,\n",
       " 1,\n",
       " 0,\n",
       " 0,\n",
       " 0]"
      ]
     },
     "execution_count": 9,
     "metadata": {},
     "output_type": "execute_result"
    }
   ],
   "source": [
    "setOfWords2Vec(vocabList, postingList[2])"
   ]
  },
  {
   "cell_type": "code",
   "execution_count": 45,
   "metadata": {},
   "outputs": [],
   "source": [
    "from numpy import *\n",
    "#训练朴素贝叶斯\n",
    "def trainNB0(trainMatrix, trainCategory):\n",
    "    numTrainDocs = len(trainMatrix)\n",
    "    numWords = len(trainMatrix[0])\n",
    "    pAbusive = sum(trainCategory)/float(numTrainDocs)\n",
    "    p0Num = ones(numWords) ; p1Num = ones(numWords)\n",
    "    p0Denom = 2.0 ; p1Denom = 2.0\n",
    "    for i in range(numTrainDocs):\n",
    "        if trainCategory[i] == 1:\n",
    "            p1Num += trainMatrix[i]\n",
    "            p1Denom += sum(trainMatrix[i])\n",
    "        else:\n",
    "            p0Num += trainMatrix[i]\n",
    "            p0Denom += sum(trainMatrix[i])\n",
    "    p1Vec = log(p1Num / p1Denom)\n",
    "    p0Vec = log(p0Num / p0Denom)\n",
    "    return p0Vec, p1Vec, pAbusive"
   ]
  },
  {
   "cell_type": "code",
   "execution_count": 42,
   "metadata": {},
   "outputs": [
    {
     "data": {
      "text/plain": [
       "(array([-2.56494936, -3.25809654, -3.25809654, -2.56494936, -3.25809654,\n",
       "        -2.56494936, -2.56494936, -1.87180218, -2.56494936, -2.56494936,\n",
       "        -3.25809654, -3.25809654, -3.25809654, -2.56494936, -3.25809654,\n",
       "        -2.56494936, -2.56494936, -3.25809654, -2.56494936, -2.56494936,\n",
       "        -2.15948425, -2.56494936, -2.56494936, -2.56494936, -3.25809654,\n",
       "        -3.25809654, -3.25809654, -2.56494936, -2.56494936, -2.56494936,\n",
       "        -2.56494936, -2.56494936]),\n",
       " array([-3.04452244, -2.35137526, -2.35137526, -3.04452244, -2.35137526,\n",
       "        -2.35137526, -3.04452244, -3.04452244, -3.04452244, -1.94591015,\n",
       "        -2.35137526, -1.94591015, -2.35137526, -3.04452244, -2.35137526,\n",
       "        -3.04452244, -3.04452244, -2.35137526, -3.04452244, -3.04452244,\n",
       "        -2.35137526, -3.04452244, -3.04452244, -3.04452244, -2.35137526,\n",
       "        -1.65822808, -2.35137526, -3.04452244, -3.04452244, -3.04452244,\n",
       "        -2.35137526, -3.04452244]),\n",
       " 0.5)"
      ]
     },
     "execution_count": 42,
     "metadata": {},
     "output_type": "execute_result"
    }
   ],
   "source": []
  },
  {
   "cell_type": "code",
   "execution_count": 48,
   "metadata": {},
   "outputs": [
    {
     "name": "stdout",
     "output_type": "stream",
     "text": [
      "['love', 'my', 'dalmation'] classified as:  0\n",
      "['stupid', 'garbage'] classified as:  1\n"
     ]
    }
   ],
   "source": [
    "def classifyNB(vec2Classify, p0Vec, p1Vec, pClass1):\n",
    "    p1 = sum(vec2Classify * p1Vec) + log(pClass1)\n",
    "    p0 = sum(vec2Classify * p0Vec) + log(1-pClass1)\n",
    "    if p1 > p0: return 1\n",
    "    else: return 0\n",
    "\n",
    "def testingNB():\n",
    "    listOPosts,listClasses = loadDataSet()\n",
    "    myVocabList = createVocabList(listOPosts)\n",
    "    trainMat=[]\n",
    "    for postinDoc in listOPosts:\n",
    "        trainMat.append(setOfWords2Vec(myVocabList, postinDoc))\n",
    "    p0V,p1V,pAb = trainNB0(array(trainMat),array(listClasses))\n",
    "    testEntry = ['love', 'my', 'dalmation']\n",
    "    thisDoc = array(setOfWords2Vec(myVocabList, testEntry))\n",
    "    print(testEntry,'classified as: ',classifyNB(thisDoc,p0V,p1V,pAb))\n",
    "    testEntry = ['stupid', 'garbage']\n",
    "    thisDoc = array(setOfWords2Vec(myVocabList, testEntry))\n",
    "    print(testEntry,'classified as: ',classifyNB(thisDoc,p0V,p1V,pAb))\n",
    "testingNB()"
   ]
  },
  {
   "cell_type": "code",
   "execution_count": 113,
   "metadata": {},
   "outputs": [
    {
     "name": "stdout",
     "output_type": "stream",
     "text": [
      "['a', 'home', 'based', 'business', 'opportunity', 'is', 'knocking', 'at', 'your', 'door', 'don抰', 'be', 'rude', 'and', 'let', 'this', 'chance', 'go', 'by', 'you', 'can', 'earn', 'a', 'great', 'income', 'and', 'find', 'your', 'financial', 'life', 'transformed', 'learn', 'more', 'here', 'to', 'your', 'success', 'work', 'from', 'home', 'finder', 'experts']\n",
      "['scifinance', 'now', 'automatically', 'generates', 'gpu', 'enabled', 'pricing', 'risk', 'model', 'source', 'code', 'that', 'runs', 'up', 'to', '50', '300x', 'faster', 'than', 'serial', 'code', 'using', 'a', 'new', 'nvidia', 'fermi', 'class', 'tesla', '20', 'series', 'gpu', 'scifinance', 'is', 'a', 'derivatives', 'pricing', 'and', 'risk', 'model', 'development', 'tool', 'that', 'automatically', 'generates', 'c', 'c', 'and', 'gpu', 'enabled', 'source', 'code', 'from', 'concise', 'high', 'level', 'model', 'specifications', 'no', 'parallel', 'computing', 'or', 'cuda', 'programming', 'expertise', 'is', 'required', 'scifinance', 's', 'automatic', 'gpu', 'enabled', 'monte', 'carlo', 'pricing', 'model', 'source', 'code', 'generation', 'capabilities', 'have', 'been', 'significantly', 'extended', 'in', 'the', 'latest', 'release', 'this', 'includes']\n",
      "the error rate is:  0.2\n"
     ]
    }
   ],
   "source": [
    "#提取句子中的词语\n",
    "def textParse(bigString):\n",
    "    import re\n",
    "    listOfWords = re.split(r'\\W', bigString)\n",
    "    return [tok.lower() for tok in listOfWords if len(tok) > 0]\n",
    "textParse(mySent)\n",
    "\n",
    "def spamTest():\n",
    "    docList=[]; classList=[]; fullText=[];\n",
    "    for i in range(1, 26):\n",
    "        wordList = textParse(open('email/spam/%d.txt' % i, encoding='gbk').read())\n",
    "        docList.append(wordList)\n",
    "        classList.append(1)\n",
    "        fullText.extend(wordList)\n",
    "        wordList = textParse(open('email/ham/%d.txt' % i, encoding='gbk').read())\n",
    "        docList.append(wordList)\n",
    "        classList.append(0)\n",
    "        fullText.extend(wordList)\n",
    "    vocabList = createVocabList(docList)\n",
    "    trainingSet = list(range(50)); testSet=[]\n",
    "    for i in range(10):\n",
    "        randIndex = int(random.uniform(0, len(trainingSet)))\n",
    "        testSet.append(trainingSet[randIndex])\n",
    "        del(trainingSet[randIndex])\n",
    "    trainMat = []; trainClasses = []\n",
    "    for docIndex in trainingSet:\n",
    "        trainMat.append(setOfWords2Vec(vocabList, docList[docIndex]))\n",
    "        trainClasses.append(classList[docIndex])\n",
    "    p0V, p1V, pSpam = trainNB0(array(trainMat), array(trainClasses))\n",
    "    errorCount = 0\n",
    "    for docIndex in testSet:\n",
    "        wordVector = setOfWords2Vec(vocabList, docList[docIndex])\n",
    "        if classifyNB(array(wordVector), p0V, p1V, pSpam) != classList[docIndex]:\n",
    "            errorCount += 1\n",
    "            print(docList[docIndex])\n",
    "    print('the error rate is: ', float(errorCount)/len(testSet))\n",
    "spamTest()"
   ]
  }
 ],
 "metadata": {
  "kernelspec": {
   "display_name": "Python 3",
   "language": "python",
   "name": "python3"
  },
  "language_info": {
   "codemirror_mode": {
    "name": "ipython",
    "version": 3
   },
   "file_extension": ".py",
   "mimetype": "text/x-python",
   "name": "python",
   "nbconvert_exporter": "python",
   "pygments_lexer": "ipython3",
   "version": "3.7.1"
  }
 },
 "nbformat": 4,
 "nbformat_minor": 2
}
